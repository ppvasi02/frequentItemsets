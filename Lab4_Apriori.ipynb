{
  "nbformat": 4,
  "nbformat_minor": 0,
  "metadata": {
    "colab": {
      "provenance": [],
      "collapsed_sections": []
    },
    "kernelspec": {
      "name": "python3",
      "display_name": "Python 3"
    },
    "language_info": {
      "name": "python"
    }
  },
  "cells": [
    {
      "cell_type": "code",
      "source": [
        "%pip install -q numpy\n",
        "%pip install -q pandas\n",
        "%pip install -q matplotlib\n",
        "%pip install -q seaborn\n",
        "%pip install -q mlxtend"
      ],
      "metadata": {
        "id": "fRPMmCz252sm"
      },
      "execution_count": null,
      "outputs": []
    },
    {
      "cell_type": "code",
      "metadata": {
        "id": "CBcVl9ih38UX"
      },
      "source": [
        "import numpy as np\n",
        "import pandas as pd\n",
        "import matplotlib.pyplot as plt\n",
        "import seaborn as sns\n",
        "\n",
        "%matplotlib inline"
      ],
      "execution_count": null,
      "outputs": []
    },
    {
      "cell_type": "markdown",
      "source": [
        "# Part I. Data Preprocessing"
      ],
      "metadata": {
        "id": "KtYmmUVq6qKM"
      }
    },
    {
      "cell_type": "code",
      "metadata": {
        "id": "nZq_3GcF4R3g"
      },
      "source": [
        "# Importing the Dataset\n",
        "url='https://drive.google.com/file/d/1Rh1bzwUMVL1qgJoUGcmwDy3s_mJOO3Ys/view?usp=sharing'\n",
        "url='https://drive.google.com/uc?id=' + url.split('/')[-2]\n",
        "df = pd.read_csv(url)\n",
        "\n",
        "# df.info() will Display the Size of the Dataset and Information about the Columns\n"
      ],
      "execution_count": null,
      "outputs": []
    },
    {
      "cell_type": "code",
      "metadata": {
        "id": "0CDc0sds4mKu"
      },
      "source": [
        "# Changing the Data Types for region, internet, and class columns to Categorical Data\n",
        "# These Columns were Incorrectly Identified as Numerical\n",
        "\n",
        "\n",
        "# Checking to See if Changes Updated\n"
      ],
      "execution_count": null,
      "outputs": []
    },
    {
      "cell_type": "code",
      "metadata": {
        "id": "OEYFfz2U7Waz"
      },
      "source": [
        "# Gathering Statistical Information from Columns with Numerical Values\n"
      ],
      "execution_count": null,
      "outputs": []
    },
    {
      "cell_type": "code",
      "metadata": {
        "id": "Cb4vA0nU9ADv"
      },
      "source": [
        "# Drawing a Bar Chart to Check the Category Distribution for Region\n"
      ],
      "execution_count": null,
      "outputs": []
    },
    {
      "cell_type": "code",
      "metadata": {
        "id": "5lO32Iur9eYs"
      },
      "source": [
        "# Drawing a Bar Chart to Check the Category Distribution for Internet\n"
      ],
      "execution_count": null,
      "outputs": []
    },
    {
      "cell_type": "code",
      "metadata": {
        "id": "ymooxSQsAzGB"
      },
      "source": [
        "# Drawing a Bar Chart to Check the Category Distribution for Class\n"
      ],
      "execution_count": null,
      "outputs": []
    },
    {
      "cell_type": "code",
      "metadata": {
        "id": "a78nwl0dA1Fb"
      },
      "source": [
        "# Drawing the Density Plot for the Numerical Column 'age''\n"
      ],
      "execution_count": null,
      "outputs": []
    },
    {
      "cell_type": "code",
      "metadata": {
        "id": "S1EsAB_sBQWV"
      },
      "source": [
        "# Drawing the Density Plot for the Numerical Column 'income'\n"
      ],
      "execution_count": null,
      "outputs": []
    },
    {
      "cell_type": "code",
      "metadata": {
        "id": "QzUmMkt0ByQp"
      },
      "source": [
        "# Drawing the Density Plot for the Numerical Column 'long_Month'\n"
      ],
      "execution_count": null,
      "outputs": []
    },
    {
      "cell_type": "code",
      "metadata": {
        "id": "cE5CMIpFB3LE"
      },
      "source": [
        "# Drawing the Density Plot for the Numerical Column 'balance'\n"
      ],
      "execution_count": null,
      "outputs": []
    },
    {
      "cell_type": "code",
      "metadata": {
        "id": "3D2IJWyYB6jG"
      },
      "source": [
        "# This Function Checks for Outliers\n",
        "def checkOutliers(x):\n",
        "  q25 = x.quantile(.25)\n",
        "  q75 = x.quantile(.75)\n",
        "  IQR = q75 - q25\n",
        "  l = q25 - IQR * 1.5\n",
        "  u = q75 + IQR * 1.5\n",
        "  return l, u"
      ],
      "execution_count": null,
      "outputs": []
    },
    {
      "cell_type": "code",
      "metadata": {
        "id": "v5wD93arDPI9"
      },
      "source": [
        "# Printing the Lower and Upper Bounds for the Column 'age'\n",
        "\n",
        "# Applying Mask to Check for Outliers\n",
        "\n",
        "\n",
        "# Printing the Total Number of Lower Outliers and Upper Outliers, Respectfully\n"
      ],
      "execution_count": null,
      "outputs": []
    },
    {
      "cell_type": "code",
      "metadata": {
        "id": "b0hUUSaUEfye"
      },
      "source": [
        "# Printing the Lower and Upper Bounds for the Column 'income'\n",
        "\n",
        "\n",
        "# Applying Mask to Check for Outliers\n",
        "\n",
        "\n",
        "# Printing the Total Number of Lower Outliers and Upper Outliers, Respectfully\n"
      ],
      "execution_count": null,
      "outputs": []
    },
    {
      "cell_type": "code",
      "metadata": {
        "id": "YoKj6odzGYo3"
      },
      "source": [
        "# Outliers Detected in the Upper Boundary\n",
        "# Removing the Outliers that Exceed the Mask\n",
        "# Since mask_upper is Currently Set for the 'income' Column, it Will Only Remove Outliers from that Column\n",
        "\n",
        "\n",
        "# Printing Density Plot of 'income' to Ensure the Outliers were Removed\n"
      ],
      "execution_count": null,
      "outputs": []
    },
    {
      "cell_type": "code",
      "metadata": {
        "id": "OGh5EbbHFFCW"
      },
      "source": [
        "# Printing the Lower and Upper Bounds for the Column 'long_Month'\n",
        "\n",
        "\n",
        "# Applying Mask to Check for Outliers\n",
        "\n",
        "\n",
        "# Printing the Total Number of Lower Outliers and Upper Outliers, Respectfully\n"
      ],
      "execution_count": null,
      "outputs": []
    },
    {
      "cell_type": "code",
      "metadata": {
        "id": "JheTuBryL-5k"
      },
      "source": [
        "# Outliers Detected in the Upper Boundary\n",
        "# Removing the Outliers that Exceed the Mask\n",
        "\n",
        "\n",
        "# Printing Density Plot of 'income' to Ensure the Outliers were Removed\n"
      ],
      "execution_count": null,
      "outputs": []
    },
    {
      "cell_type": "code",
      "metadata": {
        "id": "kY_85ojEFIH_"
      },
      "source": [
        "# Printing the Lower and Upper Bounds for the Column 'balance'\n",
        "\n",
        "\n",
        "# Applying Mask to Check for Outliers\n",
        "\n",
        "\n",
        "# Printing the Total Number of Lower Outliers and Upper Outliers, Respectfully\n"
      ],
      "execution_count": null,
      "outputs": []
    },
    {
      "cell_type": "code",
      "metadata": {
        "id": "cEhniGn_MCu3"
      },
      "source": [
        "# Outliers Detected in the Upper Boundary\n",
        "# Removing the Outliers that Exceed the Mask\n",
        "# Since mask_upper is Currently Set for the 'income' Column, it Will Only Remove Outliers from that Column\n",
        "\n",
        "\n",
        "# Printing Density Plot of 'income' to Ensure the Outliers were Removed\n"
      ],
      "execution_count": null,
      "outputs": []
    },
    {
      "cell_type": "code",
      "metadata": {
        "id": "XENbd8H0MEPG"
      },
      "source": [
        "# Converting the 'age' Column into Categorical Values Using Equal-Width Binning\n",
        "# Creating Four Equal-Width Bins \n"
      ],
      "execution_count": null,
      "outputs": []
    },
    {
      "cell_type": "code",
      "metadata": {
        "id": "3yufcMzJX1Vi"
      },
      "source": [
        "# Outputting Plot to Verify the Binning was Successful\n"
      ],
      "execution_count": null,
      "outputs": []
    },
    {
      "cell_type": "code",
      "metadata": {
        "id": "AQDTKuxgcA1u"
      },
      "source": [
        "# Converting the 'income' Column into Categorical Values Using Equal-Frequency Binning\n",
        "# Creating Four Equal-Frequency Bins \n"
      ],
      "execution_count": null,
      "outputs": []
    },
    {
      "cell_type": "code",
      "metadata": {
        "id": "W57uqzuwkr98"
      },
      "source": [
        "# Outputting Plot to Verify the Binning was Successful\n"
      ],
      "execution_count": null,
      "outputs": []
    },
    {
      "cell_type": "code",
      "metadata": {
        "id": "FCEyJthmlgJA"
      },
      "source": [
        "# Converting the 'long_Month' Column into Categorical Values Using Equal-Frequency Binning\n",
        "# Creating Four Equal-Frequency Bins \n"
      ],
      "execution_count": null,
      "outputs": []
    },
    {
      "cell_type": "code",
      "metadata": {
        "id": "HAL51QUdnZAa"
      },
      "source": [
        "# Outputting Plot to Verify the Binning was Successful\n"
      ],
      "execution_count": null,
      "outputs": []
    },
    {
      "cell_type": "code",
      "metadata": {
        "id": "xnmDqsXuncSe"
      },
      "source": [
        "# The Binning Job is Complete, so Now the Old Attributes Will be Dropped\n"
      ],
      "execution_count": null,
      "outputs": []
    },
    {
      "cell_type": "code",
      "metadata": {
        "id": "F-7_uDRSzDHa"
      },
      "source": [
        "# Preparing to Replace Missing Values in Balance Column with Binned 'new_age' Group Mean\n"
      ],
      "execution_count": null,
      "outputs": []
    },
    {
      "cell_type": "code",
      "metadata": {
        "id": "KeE58LwR8uZI"
      },
      "source": [
        "# Smoothing by Bin Mean\n",
        "# Replacing Missing Values in Balance with Binned 'new_age' Group Mean\n"
      ],
      "execution_count": null,
      "outputs": []
    },
    {
      "cell_type": "code",
      "metadata": {
        "id": "yFyPpudeS1KH"
      },
      "source": [
        "# Verifying the Filling Missing Values was Successful\n"
      ],
      "execution_count": null,
      "outputs": []
    },
    {
      "cell_type": "code",
      "metadata": {
        "id": "4WGaIaHUT6W9"
      },
      "source": [
        "# Converting the 'balance' Column into Categorical Values Using Equal-Frequency Binning\n",
        "# Creating Four Equal-Frequency Bins \n"
      ],
      "execution_count": null,
      "outputs": []
    },
    {
      "cell_type": "code",
      "metadata": {
        "id": "y-IzDSOLA5Cr"
      },
      "source": [
        "# Outputting Plot to Verify the Binning was Successful\n"
      ],
      "execution_count": null,
      "outputs": []
    },
    {
      "cell_type": "code",
      "metadata": {
        "id": "CE4MYsVA_TVE"
      },
      "source": [
        "# The Binning Job is Complete, so Now the Old Attributes Will be Dropped\n"
      ],
      "execution_count": null,
      "outputs": []
    },
    {
      "cell_type": "markdown",
      "metadata": {
        "id": "0Zg9Db3_ZEUQ"
      },
      "source": [
        "# Part II. Association Rule Mining"
      ]
    },
    {
      "cell_type": "code",
      "metadata": {
        "id": "BUqb9Lx_Iim0"
      },
      "source": [
        "# Importing the Machine Learning Extensions Library\n",
        "import math\n",
        "from mlxtend.preprocessing import TransactionEncoder\n",
        "from mlxtend.frequent_patterns import apriori, association_rules"
      ],
      "execution_count": null,
      "outputs": []
    },
    {
      "cell_type": "code",
      "metadata": {
        "id": "c3QYKSyueASF"
      },
      "source": [
        "# Converting All Attributes to the Binary Format\n"
      ],
      "execution_count": null,
      "outputs": []
    },
    {
      "cell_type": "code",
      "metadata": {
        "id": "UEkD5Y6PgvOl"
      },
      "source": [
        "# Performing the Apriori Algorithm\n"
      ],
      "execution_count": null,
      "outputs": []
    },
    {
      "cell_type": "code",
      "metadata": {
        "id": "6tpqPGoeh5x8"
      },
      "source": [
        "# Mining for Association Rules with a Confidence min_threshhold of 0.5\n"
      ],
      "execution_count": null,
      "outputs": []
    },
    {
      "cell_type": "code",
      "metadata": {
        "id": "itd66GvQjpgD"
      },
      "source": [
        "# Defining Rules\n"
      ],
      "execution_count": null,
      "outputs": []
    },
    {
      "cell_type": "code",
      "metadata": {
        "id": "Ko_DIn2l685-"
      },
      "source": [
        "# Consequents Value Counts\n"
      ],
      "execution_count": null,
      "outputs": []
    },
    {
      "cell_type": "code",
      "metadata": {
        "id": "MPRdreQN7Csy"
      },
      "source": [
        "# Finding Rules for Class Labels Based on Who Renews Their Internet Plan\n"
      ],
      "execution_count": null,
      "outputs": []
    },
    {
      "cell_type": "code",
      "metadata": {
        "id": "BldzgN2G7KF4"
      },
      "source": [
        "# Searching for Contains 'internet_1' to Show Who Will Renew the Plan\n"
      ],
      "execution_count": null,
      "outputs": []
    },
    {
      "cell_type": "code",
      "metadata": {
        "id": "-Dy_-VR_7L2v"
      },
      "source": [
        "# Applying Mask\n"
      ],
      "execution_count": null,
      "outputs": []
    },
    {
      "cell_type": "code",
      "metadata": {
        "id": "ZICGDkAvP9uY"
      },
      "source": [],
      "execution_count": null,
      "outputs": []
    }
  ]
}